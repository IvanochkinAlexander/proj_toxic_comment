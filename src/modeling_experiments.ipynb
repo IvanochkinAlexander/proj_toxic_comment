{
 "cells": [
  {
   "cell_type": "code",
   "execution_count": 1,
   "metadata": {},
   "outputs": [],
   "source": []
  },
  {
   "cell_type": "code",
   "execution_count": 2,
   "metadata": {},
   "outputs": [
    {
     "name": "stderr",
     "output_type": "stream",
     "text": [
      "/usr/local/lib/python3.6/dist-packages/h5py/__init__.py:36: FutureWarning: Conversion of the second argument of issubdtype from `float` to `np.floating` is deprecated. In future, it will be treated as `np.float64 == np.dtype(float).type`.\n",
      "  from ._conv import register_converters as _register_converters\n",
      "Using TensorFlow backend.\n"
     ]
    }
   ],
   "source": []
  },
  {
   "cell_type": "markdown",
   "metadata": {},
   "source": [
    "# BiGRU 85K\n",
    "100K features is way too many features (error is raised in this case)."
   ]
  },
  {
   "cell_type": "code",
   "execution_count": 3,
   "metadata": {},
   "outputs": [],
   "source": [
    "class CustomBiGRUConfig(BiGRU85kConfig):\n",
    "    MODEL_PREFIX = 'dl-10'\n",
    "    BATCH_SIZE = 32\n",
    "    CV_NSPLITS = 3\n",
    "    EPOCHS = 5\n",
    "    FOLD_VAL_SPLIT = True\n",
    "    \n",
    "    EMBEDDING_FILE = os.path.join(BiGRUConfig.DATA_DIR, 'external/glove.twitter.27B.200d.txt')\n",
    "    DATASET_P = os.path.join(BiGRUConfig.DATA_DIR, 'interim/dataset.p')\n",
    "    PROCESSED_TRAIN_TEST = os.path.join(GenericConfig.DATA_DIR,\n",
    "                                        'interim/train_test_manual_no_extra.json')\n",
    "    \n",
    "    FEATURES_COLUMN = 'comment_text_manual_no_extra'"
   ]
  },
  {
   "cell_type": "code",
   "execution_count": 4,
   "metadata": {},
   "outputs": [
    {
     "name": "stdout",
     "output_type": "stream",
     "text": [
      "Configuration:\n",
      "\n",
      "BATCH_SIZE                     32\n",
      "CHECKPOINT_PATH                ../data/last_chpt.h5\n",
      "CV_NSPLITS                     3\n",
      "CV_OUTPUT_DIR                  ../data/processed/cross_validation\n",
      "CV_RANDOM_STATE                2\n",
      "DATASET_P                      ../data/interim/dataset.p\n",
      "DATA_DIR                       ../data\n",
      "DECAY                          0.0\n",
      "DROPOUT                        0.2\n",
      "EMBEDDINGS                     {'max_features': 85000, 'embed_size': 200, 'maxlen': 250}\n",
      "EMBEDDING_FILE                 ../data/external/glove.twitter.27B.200d.txt\n",
      "EPOCHS                         5\n",
      "FEATURES_COLUMN                comment_text_manual_no_extra\n",
      "FOLD_VAL_SPLIT                 True\n",
      "GRU_DROPOUT                    0.3\n",
      "LEARNING_RATE                  0.001\n",
      "LIST_CLASSES                   ['toxic', 'severe_toxic', 'obscene', 'threat', 'insult', 'identity_hate']\n",
      "LOG_DIR                        ../data/processed/cross_validation/logs\n",
      "MODEL_PREFIX                   dl-10\n",
      "PROCESSED_TRAIN_TEST           ../data/interim/train_test_manual_no_extra.json\n",
      "SAMPLE_SUBMISSION              ../data/raw/sample_submission.csv\n",
      "TEST_DATA_FILE                 ../data/raw/test.csv\n",
      "TRAIN_DATA_FILE                ../data/raw/train.csv\n",
      "UNITS                          OrderedDict([('GRU', 140), ('Conv1D', 64), ('Dense', 6)])\n",
      "\n"
     ]
    }
   ],
   "source": [
    "conf = CustomBiGRUConfig()\n",
    "print(conf.display_info())"
   ]
  },
  {
   "cell_type": "code",
   "execution_count": 5,
   "metadata": {},
   "outputs": [
    {
     "name": "stdout",
     "output_type": "stream",
     "text": [
      "Train on 143613 samples, validate on 15958 samples\n",
      "Epoch 1/5\n",
      "143584/143613 [============================>.] - ETA: 0s - loss: 0.0562 - acc: 0.9801\n",
      " ROC-AUC - epoch: 1 - score: 0.984427\n",
      "Epoch 00001: val_loss improved from inf to 0.04459, saving model to ../data/last_chpt.h5\n",
      "143613/143613 [==============================] - 1647s 11ms/step - loss: 0.0562 - acc: 0.9801 - val_loss: 0.0446 - val_acc: 0.9829\n",
      "Epoch 2/5\n",
      "143584/143613 [============================>.] - ETA: 0s - loss: 0.0471 - acc: 0.9825\n",
      " ROC-AUC - epoch: 2 - score: 0.985029\n",
      "Epoch 00002: val_loss improved from 0.04459 to 0.04366, saving model to ../data/last_chpt.h5\n",
      "143613/143613 [==============================] - 1636s 11ms/step - loss: 0.0471 - acc: 0.9825 - val_loss: 0.0437 - val_acc: 0.9834\n",
      "Epoch 3/5\n",
      "137376/143613 [===========================>..] - ETA: 1:06 - loss: 0.0446 - acc: 0.9831"
     ]
    },
    {
     "name": "stderr",
     "output_type": "stream",
     "text": [
      "IOPub message rate exceeded.\n",
      "The notebook server will temporarily stop sending output\n",
      "to the client in order to avoid crashing it.\n",
      "To change this limit, set the config variable\n",
      "`--NotebookApp.iopub_msg_rate_limit`.\n",
      "\n",
      "Current values:\n",
      "NotebookApp.iopub_msg_rate_limit=1000.0 (msgs/sec)\n",
      "NotebookApp.rate_limit_window=3.0 (secs)\n",
      "\n"
     ]
    },
    {
     "name": "stdout",
     "output_type": "stream",
     "text": [
      "143584/143613 [============================>.] - ETA: 0s - loss: 0.0428 - acc: 0.9837\n",
      " ROC-AUC - epoch: 4 - score: 0.986078\n",
      "Epoch 00004: val_loss did not improve\n",
      "143613/143613 [==============================] - 1601s 11ms/step - loss: 0.0428 - acc: 0.9837 - val_loss: 0.0438 - val_acc: 0.9838\n",
      "Epoch 5/5\n",
      " 73920/143613 [==============>...............] - ETA: 12:15 - loss: 0.0411 - acc: 0.9846"
     ]
    },
    {
     "name": "stderr",
     "output_type": "stream",
     "text": [
      "IOPub message rate exceeded.\n",
      "The notebook server will temporarily stop sending output\n",
      "to the client in order to avoid crashing it.\n",
      "To change this limit, set the config variable\n",
      "`--NotebookApp.iopub_msg_rate_limit`.\n",
      "\n",
      "Current values:\n",
      "NotebookApp.iopub_msg_rate_limit=1000.0 (msgs/sec)\n",
      "NotebookApp.rate_limit_window=3.0 (secs)\n",
      "\n"
     ]
    }
   ],
   "source": [
    "bigru_model = BiGRU85k(config=conf)\n",
    "# bigru_model.cross_validate(X=bigru_model.dataset.X_train, y=bigru_model.dataset.y_train)\n",
    "bigru_model.fit_predict(X_train=bigru_model.dataset.X_train,\n",
    "                        X_test=bigru_model.dataset.X_test,\n",
    "                        y_train=bigru_model.dataset.y_train)"
   ]
  },
  {
   "cell_type": "code",
   "execution_count": 6,
   "metadata": {},
   "outputs": [
    {
     "data": {
      "text/plain": [
       "'dl-10_bigru_85k_2018-03-12-20:46'"
      ]
     },
     "execution_count": 6,
     "metadata": {},
     "output_type": "execute_result"
    }
   ],
   "source": [
    "bigru_model.experiment_id"
   ]
  },
  {
   "cell_type": "code",
   "execution_count": null,
   "metadata": {},
   "outputs": [],
   "source": [
    "# -----"
   ]
  },
  {
   "cell_type": "code",
   "execution_count": null,
   "metadata": {},
   "outputs": [],
   "source": [
    "# Night experiment 1"
   ]
  },
  {
   "cell_type": "code",
   "execution_count": 14,
   "metadata": {},
   "outputs": [],
   "source": [
    "# dl-10\n",
    "class CustomBiGRUConfig2(BiGRUConfig):\n",
    "    MODEL_PREFIX = 'dl-10'\n",
    "    EPOCHS = 2\n",
    "    EMBEDDINGS = {\n",
    "        'max_features': 30000,\n",
    "        'embed_size': 200,\n",
    "        'maxlen': 400\n",
    "    }\n",
    "    \n",
    "    BATCH_SIZE = 32\n",
    "    CV_NSPLITS = 5\n",
    "    \n",
    "    EMBEDDING_FILE = os.path.join(BiGRUConfig.DATA_DIR, 'external/glove.twitter.27B.200d.txt')\n",
    "    DATASET_P = os.path.join(BiGRUConfig.DATA_DIR, 'interim/dataset.p')\n",
    "    PROCESSED_TRAIN_TEST = os.path.join(GenericConfig.DATA_DIR,\n",
    "                                        'interim/train_test_manual_no_extra.json')\n",
    "    \n",
    "    FEATURES_COLUMN = 'comment_text_manual_no_extra'"
   ]
  },
  {
   "cell_type": "code",
   "execution_count": 15,
   "metadata": {},
   "outputs": [
    {
     "name": "stdout",
     "output_type": "stream",
     "text": [
      "Configuration:\n",
      "\n",
      "BATCH_SIZE                     32\n",
      "CHECKPOINT_PATH                ../data/last_chpt.h5\n",
      "CV_NSPLITS                     5\n",
      "CV_OUTPUT_DIR                  ../data/processed/cross_validation\n",
      "CV_RANDOM_STATE                2\n",
      "DATASET_P                      ../data/interim/dataset.p\n",
      "DATA_DIR                       ../data\n",
      "DECAY                          0.0\n",
      "DROPOUT                        0.2\n",
      "EMBEDDINGS                     {'max_features': 30000, 'embed_size': 200, 'maxlen': 400}\n",
      "EMBEDDING_FILE                 ../data/external/glove.twitter.27B.200d.txt\n",
      "EPOCHS                         2\n",
      "FEATURES_COLUMN                comment_text_manual_no_extra\n",
      "FOLD_VAL_SPLIT                 False\n",
      "LEARNING_RATE                  0.001\n",
      "LIST_CLASSES                   ['toxic', 'severe_toxic', 'obscene', 'threat', 'insult', 'identity_hate']\n",
      "LOG_DIR                        ../data/processed/cross_validation/logs\n",
      "MODEL_PREFIX                   dl-10\n",
      "PROCESSED_TRAIN_TEST           ../data/interim/train_test_manual_no_extra.json\n",
      "SAMPLE_SUBMISSION              ../data/raw/sample_submission.csv\n",
      "TEST_DATA_FILE                 ../data/raw/test.csv\n",
      "TRAIN_DATA_FILE                ../data/raw/train.csv\n",
      "UNITS                          OrderedDict([('GRU', 128), ('Conv1D', 64), ('Dense', 6)])\n",
      "\n"
     ]
    }
   ],
   "source": [
    "conf = CustomBiGRUConfig2()\n",
    "print(conf.display_info())"
   ]
  },
  {
   "cell_type": "code",
   "execution_count": 16,
   "metadata": {},
   "outputs": [
    {
     "data": {
      "text/plain": [
       "'dl-10_bigru_conv1d_2018-03-12-21:51'"
      ]
     },
     "execution_count": 16,
     "metadata": {},
     "output_type": "execute_result"
    }
   ],
   "source": [
    "bigru_model = BiGRU(config=conf)\n",
    "bigru_model.experiment_id"
   ]
  },
  {
   "cell_type": "code",
   "execution_count": null,
   "metadata": {},
   "outputs": [
    {
     "name": "stdout",
     "output_type": "stream",
     "text": [
      "Epoch 1/2\n",
      "127656/127656 [==============================] - 1804s 14ms/step - loss: 0.0539 - acc: 0.9807\n",
      "Epoch 2/2\n",
      "127656/127656 [==============================] - 1781s 14ms/step - loss: 0.0440 - acc: 0.9834\n",
      "Epoch 1/2\n",
      " 22944/127657 [====>.........................] - ETA: 23:31 - loss: 0.0735 - acc: 0.9761"
     ]
    }
   ],
   "source": [
    "bigru_model.cross_validate(X=bigru_model.dataset.X_train, y=bigru_model.dataset.y_train)"
   ]
  },
  {
   "cell_type": "code",
   "execution_count": 28,
   "metadata": {},
   "outputs": [
    {
     "name": "stdout",
     "output_type": "stream",
     "text": [
      "153164/153164 [==============================] - 240s 2ms/step\n",
      "153164/153164 [==============================] - 242s 2ms/step\n",
      "153164/153164 [==============================] - 243s 2ms/step\n",
      "153164/153164 [==============================] - 241s 2ms/step\n",
      "153164/153164 [==============================] - 244s 2ms/step\n"
     ]
    }
   ],
   "source": [
    "bigru_model.crossval_inference(bigru_model.dataset.X_test, verbose=1, batch_size=1024)"
   ]
  },
  {
   "cell_type": "code",
   "execution_count": 31,
   "metadata": {},
   "outputs": [
    {
     "name": "stdout",
     "output_type": "stream",
     "text": [
      "Configuration:\n",
      "\n",
      "BATCH_SIZE                     32\n",
      "CHECKPOINT_PATH                ../data/last_chpt.h5\n",
      "CV_NSPLITS                     5\n",
      "CV_OUTPUT_DIR                  ../data/processed/cross_validation\n",
      "CV_RANDOM_STATE                2\n",
      "DATASET_P                      ../data/interim/dataset.p\n",
      "DATA_DIR                       ../data\n",
      "DECAY                          0.0\n",
      "DROPOUT                        0.2\n",
      "EMBEDDINGS                     {'max_features': 30000, 'embed_size': 200, 'maxlen': 400}\n",
      "EMBEDDING_FILE                 ../data/external/glove.twitter.27B.200d.txt\n",
      "EPOCHS                         2\n",
      "FEATURES_COLUMN                comment_text_manual_no_extra\n",
      "FOLD_VAL_SPLIT                 False\n",
      "LEARNING_RATE                  0.001\n",
      "LIST_CLASSES                   ['toxic', 'severe_toxic', 'obscene', 'threat', 'insult', 'identity_hate']\n",
      "LOG_DIR                        ../data/processed/cross_validation/logs\n",
      "MODEL_PREFIX                   dl-10\n",
      "PROCESSED_TRAIN_TEST           ../data/interim/train_test_manual_no_extra.json\n",
      "SAMPLE_SUBMISSION              ../data/raw/sample_submission.csv\n",
      "TEST_DATA_FILE                 ../data/raw/test.csv\n",
      "TRAIN_DATA_FILE                ../data/raw/train.csv\n",
      "UNITS                          OrderedDict([('GRU', 128), ('Conv1D', 64), ('Dense', 6)])\n",
      "\n"
     ]
    }
   ],
   "source": [
    "print(bigru_model.config.display_info())"
   ]
  },
  {
   "cell_type": "code",
   "execution_count": 26,
   "metadata": {},
   "outputs": [
    {
     "data": {
      "text/plain": [
       "'dl-10_bigru_conv1d'"
      ]
     },
     "execution_count": 26,
     "metadata": {},
     "output_type": "execute_result"
    }
   ],
   "source": [
    "bigru_model.experiment_id"
   ]
  },
  {
   "cell_type": "code",
   "execution_count": 27,
   "metadata": {
    "scrolled": true
   },
   "outputs": [
    {
     "data": {
      "text/plain": [
       "{'fold_0': <keras.engine.training.Model at 0x7f9dd56551d0>,\n",
       " 'fold_1': <keras.engine.training.Model at 0x7f9dd496d2e8>,\n",
       " 'fold_2': <keras.engine.training.Model at 0x7f9dd3db62e8>,\n",
       " 'fold_3': <keras.engine.training.Model at 0x7f9dd24f6d68>,\n",
       " 'fold_4': <keras.engine.training.Model at 0x7f9dd633c438>}"
      ]
     },
     "execution_count": 27,
     "metadata": {},
     "output_type": "execute_result"
    }
   ],
   "source": [
    "bigru_model.trained_models"
   ]
  },
  {
   "cell_type": "markdown",
   "metadata": {},
   "source": [
    "# Mar 13"
   ]
  },
  {
   "cell_type": "code",
   "execution_count": 29,
   "metadata": {},
   "outputs": [
    {
     "name": "stdout",
     "output_type": "stream",
     "text": [
      "The autoreload extension is already loaded. To reload it, use:\n",
      "  %reload_ext autoreload\n"
     ]
    }
   ],
   "source": [
    "%load_ext autoreload\n",
    "%autoreload 2\n",
    "import logging\n",
    "logging.basicConfig(filename='logger_mar13.log', level=logging.INFO)\n",
    "from models.bi_gru.config import BiGRUConfig, BiGRU85kConfig\n",
    "from models.generic_config import GenericConfig\n",
    "from models.bi_gru.model import BiGRU, BiGRU85k\n",
    "import os"
   ]
  },
  {
   "cell_type": "code",
   "execution_count": 31,
   "metadata": {},
   "outputs": [
    {
     "data": {
      "text/plain": [
       "models.bi_gru.config.BiGRU85kConfig"
      ]
     },
     "execution_count": 31,
     "metadata": {},
     "output_type": "execute_result"
    }
   ],
   "source": []
  },
  {
   "cell_type": "code",
   "execution_count": 3,
   "metadata": {},
   "outputs": [],
   "source": [
    "# dl-10\n",
    "class CustomBiGRUConfig(BiGRUConfig):\n",
    "    MODEL_PREFIX = 'dl-10'\n",
    "    EPOCHS = 2\n",
    "    EMBEDDINGS = {\n",
    "        'max_features': 30000,\n",
    "        'embed_size': 200,\n",
    "        'maxlen': 400\n",
    "    }\n",
    "    \n",
    "    BATCH_SIZE = 32\n",
    "    CV_NSPLITS = 5\n",
    "    \n",
    "    EMBEDDING_FILE = os.path.join(BiGRUConfig.DATA_DIR, 'external/glove.twitter.27B.200d.txt')\n",
    "    DATASET_P = os.path.join(BiGRUConfig.DATA_DIR, 'interim/dataset.p')\n",
    "    PROCESSED_TRAIN_TEST = os.path.join(GenericConfig.DATA_DIR,\n",
    "                                        'interim/train_test_manual_no_extra_2.json')\n",
    "    \n",
    "    FEATURES_COLUMN = 'comment_text_manual_no_extra_2'"
   ]
  },
  {
   "cell_type": "code",
   "execution_count": 4,
   "metadata": {},
   "outputs": [
    {
     "name": "stdout",
     "output_type": "stream",
     "text": [
      "Configuration:\n",
      "\n",
      "BATCH_SIZE                     32\n",
      "CHECKPOINT_PATH                ../data/last_chpt.h5\n",
      "CV_NSPLITS                     5\n",
      "CV_OUTPUT_DIR                  ../data/processed/cross_validation\n",
      "CV_RANDOM_STATE                2\n",
      "DATASET_P                      ../data/interim/dataset.p\n",
      "DATA_DIR                       ../data\n",
      "DECAY                          0.0\n",
      "DROPOUT                        0.2\n",
      "EMBEDDINGS                     {'max_features': 30000, 'embed_size': 200, 'maxlen': 400}\n",
      "EMBEDDING_FILE                 ../data/external/glove.twitter.27B.200d.txt\n",
      "EPOCHS                         2\n",
      "FEATURES_COLUMN                comment_text_manual_no_extra_2\n",
      "FOLD_VAL_SPLIT                 False\n",
      "LEARNING_RATE                  0.001\n",
      "LIST_CLASSES                   ['toxic', 'severe_toxic', 'obscene', 'threat', 'insult', 'identity_hate']\n",
      "LOG_DIR                        ../data/processed/cross_validation/logs\n",
      "MODEL_PREFIX                   dl-10\n",
      "PROCESSED_TRAIN_TEST           ../data/interim/train_test_manual_no_extra_2.json\n",
      "SAMPLE_SUBMISSION              ../data/raw/sample_submission.csv\n",
      "TEST_DATA_FILE                 ../data/raw/test.csv\n",
      "TRAIN_DATA_FILE                ../data/raw/train.csv\n",
      "UNITS                          OrderedDict([('GRU', 128), ('Conv1D', 64), ('Dense', 6)])\n",
      "\n"
     ]
    }
   ],
   "source": [
    "conf = CustomBiGRUConfig()\n",
    "print(conf.display_info())"
   ]
  },
  {
   "cell_type": "code",
   "execution_count": 5,
   "metadata": {},
   "outputs": [
    {
     "data": {
      "text/plain": [
       "'dl-10_bigru_conv1d_20180313_091112'"
      ]
     },
     "execution_count": 5,
     "metadata": {},
     "output_type": "execute_result"
    }
   ],
   "source": [
    "bigru_model = BiGRU(config=conf)\n",
    "bigru_model.experiment_id"
   ]
  },
  {
   "cell_type": "code",
   "execution_count": 6,
   "metadata": {},
   "outputs": [
    {
     "name": "stdout",
     "output_type": "stream",
     "text": [
      "Epoch 1/2\n",
      "120544/127656 [===========================>..] - ETA: 1:43 - loss: 0.0538 - acc: 0.9807"
     ]
    },
    {
     "name": "stderr",
     "output_type": "stream",
     "text": [
      "IOPub message rate exceeded.\n",
      "The notebook server will temporarily stop sending output\n",
      "to the client in order to avoid crashing it.\n",
      "To change this limit, set the config variable\n",
      "`--NotebookApp.iopub_msg_rate_limit`.\n",
      "\n",
      "Current values:\n",
      "NotebookApp.iopub_msg_rate_limit=1000.0 (msgs/sec)\n",
      "NotebookApp.rate_limit_window=3.0 (secs)\n",
      "\n"
     ]
    },
    {
     "name": "stdout",
     "output_type": "stream",
     "text": [
      "127657/127657 [==============================] - 1812s 14ms/step - loss: 0.0541 - acc: 0.9804\n",
      "Epoch 2/2\n",
      " 58208/127657 [============>.................] - ETA: 17:00 - loss: 0.0441 - acc: 0.9834"
     ]
    },
    {
     "name": "stderr",
     "output_type": "stream",
     "text": [
      "IOPub message rate exceeded.\n",
      "The notebook server will temporarily stop sending output\n",
      "to the client in order to avoid crashing it.\n",
      "To change this limit, set the config variable\n",
      "`--NotebookApp.iopub_msg_rate_limit`.\n",
      "\n",
      "Current values:\n",
      "NotebookApp.iopub_msg_rate_limit=1000.0 (msgs/sec)\n",
      "NotebookApp.rate_limit_window=3.0 (secs)\n",
      "\n"
     ]
    },
    {
     "name": "stdout",
     "output_type": "stream",
     "text": [
      "127657/127657 [==============================] - 1752s 14ms/step - loss: 0.0537 - acc: 0.9808\n",
      "Epoch 2/2\n",
      "  9632/127657 [=>............................] - ETA: 26:39 - loss: 0.0414 - acc: 0.9842"
     ]
    },
    {
     "name": "stderr",
     "output_type": "stream",
     "text": [
      "IOPub message rate exceeded.\n",
      "The notebook server will temporarily stop sending output\n",
      "to the client in order to avoid crashing it.\n",
      "To change this limit, set the config variable\n",
      "`--NotebookApp.iopub_msg_rate_limit`.\n",
      "\n",
      "Current values:\n",
      "NotebookApp.iopub_msg_rate_limit=1000.0 (msgs/sec)\n",
      "NotebookApp.rate_limit_window=3.0 (secs)\n",
      "\n"
     ]
    },
    {
     "name": "stdout",
     "output_type": "stream",
     "text": [
      "127657/127657 [==============================] - 1764s 14ms/step - loss: 0.0437 - acc: 0.9835\n",
      "Epoch 1/2\n",
      " 86944/127657 [===================>..........] - ETA: 9:07 - loss: 0.0566 - acc: 0.9799"
     ]
    },
    {
     "name": "stderr",
     "output_type": "stream",
     "text": [
      "IOPub message rate exceeded.\n",
      "The notebook server will temporarily stop sending output\n",
      "to the client in order to avoid crashing it.\n",
      "To change this limit, set the config variable\n",
      "`--NotebookApp.iopub_msg_rate_limit`.\n",
      "\n",
      "Current values:\n",
      "NotebookApp.iopub_msg_rate_limit=1000.0 (msgs/sec)\n",
      "NotebookApp.rate_limit_window=3.0 (secs)\n",
      "\n"
     ]
    },
    {
     "name": "stdout",
     "output_type": "stream",
     "text": [
      "127657/127657 [==============================] - 1712s 13ms/step - loss: 0.0438 - acc: 0.9834\n"
     ]
    }
   ],
   "source": [
    "bigru_model.cross_validate(X=bigru_model.dataset.X_train, y=bigru_model.dataset.y_train)"
   ]
  },
  {
   "cell_type": "code",
   "execution_count": 11,
   "metadata": {},
   "outputs": [
    {
     "name": "stdout",
     "output_type": "stream",
     "text": [
      "153164/153164 [==============================] - 227s 1ms/step\n",
      "153164/153164 [==============================] - 231s 2ms/step\n",
      "153164/153164 [==============================] - 233s 2ms/step\n",
      "153164/153164 [==============================] - 231s 2ms/step\n",
      "153164/153164 [==============================] - 231s 2ms/step\n"
     ]
    }
   ],
   "source": [
    "bigru_model.crossval_inference(bigru_model.dataset.X_test, verbose=1, batch_size=1024)"
   ]
  },
  {
   "cell_type": "code",
   "execution_count": 9,
   "metadata": {
    "scrolled": true
   },
   "outputs": [
    {
     "data": {
      "text/plain": [
       "'dl-10_bigru_conv1d_20180313_091112'"
      ]
     },
     "execution_count": 9,
     "metadata": {},
     "output_type": "execute_result"
    }
   ],
   "source": [
    "bigru_model.experiment_id"
   ]
  },
  {
   "cell_type": "code",
   "execution_count": 27,
   "metadata": {},
   "outputs": [],
   "source": [
    "# -----"
   ]
  },
  {
   "cell_type": "code",
   "execution_count": 33,
   "metadata": {},
   "outputs": [],
   "source": [
    "from collections import OrderedDict"
   ]
  },
  {
   "cell_type": "code",
   "execution_count": 41,
   "metadata": {},
   "outputs": [],
   "source": [
    "# dl-10\n",
    "class CustomBiGRUConfig(BiGRU85kConfig):\n",
    "    MODEL_PREFIX = 'dl-10'\n",
    "    EPOCHS = 50\n",
    "    EMBEDDINGS = {\n",
    "        'max_features': 90000,\n",
    "        'embed_size': 200,\n",
    "        'maxlen': 400\n",
    "    }\n",
    "    FOLD_VAL_SPLIT = True\n",
    "    BATCH_SIZE = 128\n",
    "    CV_NSPLITS = 5\n",
    "    DROPOUT = 0.5\n",
    "    GRU_DROPOUT = 0.5\n",
    "    UNITS = OrderedDict({\n",
    "        'GRU': 256,\n",
    "        'Conv1D': 128,\n",
    "        'Dense': 6\n",
    "    })\n",
    "    \n",
    "    EMBEDDING_FILE = os.path.join(BiGRUConfig.DATA_DIR, 'external/glove.twitter.27B.200d.txt')\n",
    "    DATASET_P = os.path.join(BiGRUConfig.DATA_DIR, 'interim/dataset.p')\n",
    "    PROCESSED_TRAIN_TEST = os.path.join(GenericConfig.DATA_DIR,\n",
    "                                        'interim/train_test_manual_no_extra_2.json')\n",
    "    \n",
    "    FEATURES_COLUMN = 'comment_text_manual_no_extra_2'"
   ]
  },
  {
   "cell_type": "code",
   "execution_count": 42,
   "metadata": {},
   "outputs": [
    {
     "name": "stdout",
     "output_type": "stream",
     "text": [
      "Configuration:\n",
      "\n",
      "BATCH_SIZE                     128\n",
      "CHECKPOINT_PATH                ../data/last_chpt.h5\n",
      "CV_NSPLITS                     5\n",
      "CV_OUTPUT_DIR                  ../data/processed/cross_validation\n",
      "CV_RANDOM_STATE                2\n",
      "DATASET_P                      ../data/interim/dataset.p\n",
      "DATA_DIR                       ../data\n",
      "DECAY                          0.0\n",
      "DROPOUT                        0.5\n",
      "EMBEDDINGS                     {'max_features': 90000, 'embed_size': 200, 'maxlen': 400}\n",
      "EMBEDDING_FILE                 ../data/external/glove.twitter.27B.200d.txt\n",
      "EPOCHS                         50\n",
      "FEATURES_COLUMN                comment_text_manual_no_extra_2\n",
      "FOLD_VAL_SPLIT                 True\n",
      "GRU_DROPOUT                    0.5\n",
      "LEARNING_RATE                  0.001\n",
      "LIST_CLASSES                   ['toxic', 'severe_toxic', 'obscene', 'threat', 'insult', 'identity_hate']\n",
      "LOG_DIR                        ../data/processed/cross_validation/logs\n",
      "MODEL_PREFIX                   dl-10\n",
      "PROCESSED_TRAIN_TEST           ../data/interim/train_test_manual_no_extra_2.json\n",
      "SAMPLE_SUBMISSION              ../data/raw/sample_submission.csv\n",
      "TEST_DATA_FILE                 ../data/raw/test.csv\n",
      "TRAIN_DATA_FILE                ../data/raw/train.csv\n",
      "UNITS                          OrderedDict([('GRU', 256), ('Conv1D', 128), ('Dense', 6)])\n",
      "\n"
     ]
    }
   ],
   "source": [
    "conf = CustomBiGRUConfig()\n",
    "print(conf.display_info())"
   ]
  },
  {
   "cell_type": "code",
   "execution_count": null,
   "metadata": {},
   "outputs": [
    {
     "data": {
      "text/plain": [
       "'dl-10_bigru_85k_20180313_171346'"
      ]
     },
     "execution_count": 43,
     "metadata": {},
     "output_type": "execute_result"
    }
   ],
   "source": [
    "bigru_model = BiGRU85k(config=conf)\n",
    "bigru_model.experiment_id"
   ]
  },
  {
   "cell_type": "code",
   "execution_count": null,
   "metadata": {
    "scrolled": false
   },
   "outputs": [
    {
     "name": "stdout",
     "output_type": "stream",
     "text": [
      "Train on 114890 samples, validate on 12766 samples\n",
      "Epoch 1/50\n",
      "114816/114890 [============================>.] - ETA: 1s - loss: 0.0761 - acc: 0.9749\n",
      " ROC-AUC - epoch: 1 - score: 0.977512\n",
      "Epoch 00001: val_loss improved from inf to 0.05199, saving model to ../data/last_chpt.h5\n",
      "114890/114890 [==============================] - 1753s 15ms/step - loss: 0.0761 - acc: 0.9749 - val_loss: 0.0520 - val_acc: 0.9813\n",
      "Epoch 2/50\n",
      "114816/114890 [============================>.] - ETA: 1s - loss: 0.0583 - acc: 0.9795\n",
      " ROC-AUC - epoch: 2 - score: 0.984257\n",
      "Epoch 00002: val_loss improved from 0.05199 to 0.04948, saving model to ../data/last_chpt.h5\n",
      "114890/114890 [==============================] - 1723s 15ms/step - loss: 0.0582 - acc: 0.9795 - val_loss: 0.0495 - val_acc: 0.9820\n",
      "Epoch 3/50\n",
      "114816/114890 [============================>.] - ETA: 1s - loss: 0.0543 - acc: 0.9806\n",
      " ROC-AUC - epoch: 3 - score: 0.985685\n",
      "Epoch 00003: val_loss improved from 0.04948 to 0.04623, saving model to ../data/last_chpt.h5\n",
      "114890/114890 [==============================] - 1724s 15ms/step - loss: 0.0543 - acc: 0.9805 - val_loss: 0.0462 - val_acc: 0.9828\n",
      "Epoch 4/50\n",
      "114816/114890 [============================>.] - ETA: 1s - loss: 0.0519 - acc: 0.9812\n",
      " ROC-AUC - epoch: 4 - score: 0.986655\n",
      "Epoch 00004: val_loss did not improve\n",
      "114890/114890 [==============================] - 1724s 15ms/step - loss: 0.0519 - acc: 0.9812 - val_loss: 0.0536 - val_acc: 0.9791\n",
      "Epoch 5/50\n",
      "114816/114890 [============================>.] - ETA: 1s - loss: 0.0505 - acc: 0.9817\n",
      " ROC-AUC - epoch: 5 - score: 0.985849\n",
      "Epoch 00005: val_loss improved from 0.04623 to 0.04489, saving model to ../data/last_chpt.h5\n",
      "114890/114890 [==============================] - 1764s 15ms/step - loss: 0.0505 - acc: 0.9817 - val_loss: 0.0449 - val_acc: 0.9832\n",
      "Epoch 6/50\n",
      "114816/114890 [============================>.] - ETA: 1s - loss: 0.0493 - acc: 0.9821\n",
      " ROC-AUC - epoch: 6 - score: 0.986452\n",
      "Epoch 00006: val_loss did not improve\n",
      "114890/114890 [==============================] - 1877s 16ms/step - loss: 0.0493 - acc: 0.9821 - val_loss: 0.0534 - val_acc: 0.9791\n",
      "Epoch 7/50\n",
      "114816/114890 [============================>.] - ETA: 1s - loss: 0.0488 - acc: 0.9822\n",
      " ROC-AUC - epoch: 7 - score: 0.986361\n",
      "Epoch 00007: val_loss did not improve\n",
      "114890/114890 [==============================] - 1872s 16ms/step - loss: 0.0489 - acc: 0.9822 - val_loss: 0.0591 - val_acc: 0.9771\n",
      "Epoch 8/50\n",
      "106880/114890 [==========================>...] - ETA: 1:59 - loss: 0.0482 - acc: 0.9825\n",
      " ROC-AUC - epoch: 8 - score: 0.987533\n",
      "Epoch 00008: val_loss did not improve\n",
      "114890/114890 [==============================] - 1875s 16ms/step - loss: 0.0482 - acc: 0.9824 - val_loss: 0.0575 - val_acc: 0.9779\n",
      "Epoch 9/50\n",
      "114816/114890 [============================>.] - ETA: 1s - loss: 0.0476 - acc: 0.9824\n",
      " ROC-AUC - epoch: 9 - score: 0.987249\n",
      "Epoch 00009: val_loss did not improve\n",
      "114890/114890 [==============================] - 1867s 16ms/step - loss: 0.0476 - acc: 0.9824 - val_loss: 0.0498 - val_acc: 0.9811\n",
      "Epoch 10/50\n",
      "114816/114890 [============================>.] - ETA: 1s - loss: 0.0474 - acc: 0.9825\n",
      " ROC-AUC - epoch: 10 - score: 0.988284\n",
      "Epoch 00010: val_loss did not improve\n",
      "114890/114890 [==============================] - 1870s 16ms/step - loss: 0.0474 - acc: 0.9825 - val_loss: 0.0497 - val_acc: 0.9810\n",
      "Train on 114891 samples, validate on 12766 samples\n",
      "Epoch 1/50\n",
      "114816/114891 [============================>.] - ETA: 1s - loss: 0.0757 - acc: 0.9747\n",
      " ROC-AUC - epoch: 1 - score: 0.981803\n",
      "Epoch 00001: val_loss improved from inf to 0.06066, saving model to ../data/last_chpt.h5\n",
      "114891/114891 [==============================] - 1874s 16ms/step - loss: 0.0757 - acc: 0.9747 - val_loss: 0.0607 - val_acc: 0.9766\n",
      "Epoch 2/50\n",
      "114816/114891 [============================>.] - ETA: 1s - loss: 0.0580 - acc: 0.9795\n",
      " ROC-AUC - epoch: 2 - score: 0.984782\n",
      "Epoch 00002: val_loss improved from 0.06066 to 0.04663, saving model to ../data/last_chpt.h5\n",
      "114891/114891 [==============================] - 1867s 16ms/step - loss: 0.0580 - acc: 0.9795 - val_loss: 0.0466 - val_acc: 0.9826\n",
      "Epoch 3/50\n",
      "114816/114891 [============================>.] - ETA: 1s - loss: 0.0542 - acc: 0.9805\n",
      " ROC-AUC - epoch: 3 - score: 0.986464\n",
      "Epoch 00003: val_loss did not improve\n",
      "114891/114891 [==============================] - 1868s 16ms/step - loss: 0.0542 - acc: 0.9805 - val_loss: 0.0470 - val_acc: 0.9818\n",
      "Epoch 4/50\n",
      "103296/114891 [=========================>....] - ETA: 2:51 - loss: 0.0523 - acc: 0.9809"
     ]
    },
    {
     "name": "stderr",
     "output_type": "stream",
     "text": [
      "IOPub message rate exceeded.\n",
      "The notebook server will temporarily stop sending output\n",
      "to the client in order to avoid crashing it.\n",
      "To change this limit, set the config variable\n",
      "`--NotebookApp.iopub_msg_rate_limit`.\n",
      "\n",
      "Current values:\n",
      "NotebookApp.iopub_msg_rate_limit=1000.0 (msgs/sec)\n",
      "NotebookApp.rate_limit_window=3.0 (secs)\n",
      "\n"
     ]
    },
    {
     "name": "stdout",
     "output_type": "stream",
     "text": [
      "114816/114891 [============================>.] - ETA: 1s - loss: 0.0488 - acc: 0.9820\n",
      " ROC-AUC - epoch: 7 - score: 0.985901\n",
      "Epoch 00007: val_loss did not improve\n",
      "114891/114891 [==============================] - 1868s 16ms/step - loss: 0.0488 - acc: 0.9820 - val_loss: 0.0450 - val_acc: 0.9837\n",
      "Epoch 8/50\n",
      "114816/114891 [============================>.] - ETA: 1s - loss: 0.0483 - acc: 0.9821\n",
      " ROC-AUC - epoch: 8 - score: 0.987936\n",
      "Epoch 00008: val_loss did not improve\n",
      "114891/114891 [==============================] - 1866s 16ms/step - loss: 0.0483 - acc: 0.9821 - val_loss: 0.0453 - val_acc: 0.9826\n",
      "Epoch 9/50\n",
      "103168/114891 [=========================>....] - ETA: 2:53 - loss: 0.0474 - acc: 0.9825"
     ]
    },
    {
     "name": "stderr",
     "output_type": "stream",
     "text": [
      "IOPub message rate exceeded.\n",
      "The notebook server will temporarily stop sending output\n",
      "to the client in order to avoid crashing it.\n",
      "To change this limit, set the config variable\n",
      "`--NotebookApp.iopub_msg_rate_limit`.\n",
      "\n",
      "Current values:\n",
      "NotebookApp.iopub_msg_rate_limit=1000.0 (msgs/sec)\n",
      "NotebookApp.rate_limit_window=3.0 (secs)\n",
      "\n"
     ]
    },
    {
     "name": "stdout",
     "output_type": "stream",
     "text": [
      "114816/114891 [============================>.] - ETA: 1s - loss: 0.0471 - acc: 0.9824\n",
      " ROC-AUC - epoch: 10 - score: 0.988284\n",
      "Epoch 00010: val_loss did not improve\n",
      "114891/114891 [==============================] - 1869s 16ms/step - loss: 0.0471 - acc: 0.9824 - val_loss: 0.0503 - val_acc: 0.9803\n",
      "Train on 114891 samples, validate on 12766 samples\n",
      "Epoch 1/50\n",
      " 89856/114891 [======================>.......] - ETA: 6:11 - loss: 0.0782 - acc: 0.9741"
     ]
    },
    {
     "name": "stderr",
     "output_type": "stream",
     "text": [
      "IOPub message rate exceeded.\n",
      "The notebook server will temporarily stop sending output\n",
      "to the client in order to avoid crashing it.\n",
      "To change this limit, set the config variable\n",
      "`--NotebookApp.iopub_msg_rate_limit`.\n",
      "\n",
      "Current values:\n",
      "NotebookApp.iopub_msg_rate_limit=1000.0 (msgs/sec)\n",
      "NotebookApp.rate_limit_window=3.0 (secs)\n",
      "\n"
     ]
    },
    {
     "name": "stdout",
     "output_type": "stream",
     "text": [
      "114816/114891 [============================>.] - ETA: 1s - loss: 0.0524 - acc: 0.9809\n",
      " ROC-AUC - epoch: 4 - score: 0.985251\n",
      "Epoch 00004: val_loss improved from 0.04959 to 0.04630, saving model to ../data/last_chpt.h5\n",
      "114891/114891 [==============================] - 1864s 16ms/step - loss: 0.0524 - acc: 0.9809 - val_loss: 0.0463 - val_acc: 0.9822\n",
      "Epoch 5/50\n",
      "114816/114891 [============================>.] - ETA: 1s - loss: 0.0509 - acc: 0.9814\n",
      " ROC-AUC - epoch: 5 - score: 0.986491\n",
      "Epoch 00005: val_loss did not improve\n",
      "114891/114891 [==============================] - 1865s 16ms/step - loss: 0.0509 - acc: 0.9814 - val_loss: 0.0491 - val_acc: 0.9811\n",
      "Epoch 6/50\n",
      " 67712/114891 [================>.............] - ETA: 11:37 - loss: 0.0491 - acc: 0.9819"
     ]
    },
    {
     "name": "stderr",
     "output_type": "stream",
     "text": [
      "IOPub message rate exceeded.\n",
      "The notebook server will temporarily stop sending output\n",
      "to the client in order to avoid crashing it.\n",
      "To change this limit, set the config variable\n",
      "`--NotebookApp.iopub_msg_rate_limit`.\n",
      "\n",
      "Current values:\n",
      "NotebookApp.iopub_msg_rate_limit=1000.0 (msgs/sec)\n",
      "NotebookApp.rate_limit_window=3.0 (secs)\n",
      "\n"
     ]
    },
    {
     "name": "stdout",
     "output_type": "stream",
     "text": [
      "114816/114891 [============================>.] - ETA: 1s - loss: 0.0488 - acc: 0.9820\n",
      " ROC-AUC - epoch: 7 - score: 0.986536\n",
      "Epoch 00007: val_loss did not improve\n",
      "114891/114891 [==============================] - 1865s 16ms/step - loss: 0.0488 - acc: 0.9820 - val_loss: 0.0473 - val_acc: 0.9825\n",
      "Epoch 8/50\n",
      "114816/114891 [============================>.] - ETA: 1s - loss: 0.0485 - acc: 0.9821\n",
      " ROC-AUC - epoch: 8 - score: 0.987162\n",
      "Epoch 00008: val_loss did not improve\n",
      "114891/114891 [==============================] - 1807s 16ms/step - loss: 0.0485 - acc: 0.9821 - val_loss: 0.0493 - val_acc: 0.9807\n",
      "Epoch 9/50\n",
      "114816/114891 [============================>.] - ETA: 1s - loss: 0.0476 - acc: 0.9823\n",
      " ROC-AUC - epoch: 9 - score: 0.987066\n",
      "Epoch 00009: val_loss did not improve\n",
      "114891/114891 [==============================] - 1809s 16ms/step - loss: 0.0477 - acc: 0.9823 - val_loss: 0.0509 - val_acc: 0.9801\n",
      "Train on 114891 samples, validate on 12766 samples\n",
      "Epoch 1/50\n",
      "114816/114891 [============================>.] - ETA: 1s - loss: 0.0746 - acc: 0.9754\n",
      " ROC-AUC - epoch: 1 - score: 0.977687\n",
      "Epoch 00001: val_loss improved from inf to 0.05253, saving model to ../data/last_chpt.h5\n",
      "114891/114891 [==============================] - 1813s 16ms/step - loss: 0.0746 - acc: 0.9755 - val_loss: 0.0525 - val_acc: 0.9802\n",
      "Epoch 2/50\n",
      "114816/114891 [============================>.] - ETA: 1s - loss: 0.0585 - acc: 0.9794\n",
      " ROC-AUC - epoch: 2 - score: 0.983833\n",
      "Epoch 00002: val_loss improved from 0.05253 to 0.04803, saving model to ../data/last_chpt.h5\n",
      "114891/114891 [==============================] - 1763s 15ms/step - loss: 0.0585 - acc: 0.9794 - val_loss: 0.0480 - val_acc: 0.9821\n",
      "Epoch 3/50\n",
      "101248/114891 [=========================>....] - ETA: 3:06 - loss: 0.0543 - acc: 0.9804"
     ]
    }
   ],
   "source": [
    "bigru_model.cross_validate(X=bigru_model.dataset.X_train, y=bigru_model.dataset.y_train)"
   ]
  },
  {
   "cell_type": "code",
   "execution_count": null,
   "metadata": {},
   "outputs": [],
   "source": [
    "bigru_model.crossval_inference(bigru_model.dataset.X_test, verbose=1, batch_size=1024)"
   ]
  },
  {
   "cell_type": "code",
   "execution_count": null,
   "metadata": {},
   "outputs": [],
   "source": []
  }
 ],
 "metadata": {
  "kernelspec": {
   "display_name": "Python 3",
   "language": "python",
   "name": "python3"
  },
  "language_info": {
   "codemirror_mode": {
    "name": "ipython",
    "version": 3
   },
   "file_extension": ".py",
   "mimetype": "text/x-python",
   "name": "python",
   "nbconvert_exporter": "python",
   "pygments_lexer": "ipython3",
   "version": "3.6.3"
  }
 },
 "nbformat": 4,
 "nbformat_minor": 2
}
