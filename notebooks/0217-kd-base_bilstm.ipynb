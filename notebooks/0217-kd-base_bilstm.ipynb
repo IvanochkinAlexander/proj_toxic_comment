{
 "cells": [
  {
   "cell_type": "code",
   "execution_count": null,
   "metadata": {},
   "outputs": [],
   "source": [
    "%pylab inline"
   ]
  },
  {
   "cell_type": "code",
   "execution_count": 4,
   "metadata": {},
   "outputs": [],
   "source": [
    "import pandas as pd\n",
    "import scipy.stats as stats"
   ]
  },
  {
   "cell_type": "code",
   "execution_count": 111,
   "metadata": {
    "scrolled": true
   },
   "outputs": [
    {
     "name": "stdout",
     "output_type": "stream",
     "text": [
      "glove.6B.50d.txt\t    glove.twitter.27B.25d.txt  test.csv\r\n",
      "glove.twitter.27B.100d.txt  glove.twitter.27B.50d.txt  train.csv\r\n",
      "glove.twitter.27B.200d.txt  sample_submission.csv\r\n"
     ]
    }
   ],
   "source": [
    "!ls ../data"
   ]
  },
  {
   "cell_type": "markdown",
   "metadata": {},
   "source": [
    "## Preliminary Data Discovery"
   ]
  },
  {
   "cell_type": "markdown",
   "metadata": {},
   "source": [
    "Data seem to be quite simple: just `id`, text itself and one of six toxicity indicators.\n",
    "\n",
    "**Problem:** multilabel binary classification.\n",
    "\n",
    "**Data**: unprocessed comments. This data cannot be taken for granted and should be inspected / munged."
   ]
  },
  {
   "cell_type": "code",
   "execution_count": null,
   "metadata": {},
   "outputs": [],
   "source": [
    "!head ../data/train.csv"
   ]
  },
  {
   "cell_type": "markdown",
   "metadata": {},
   "source": [
    "### Target Discovery and Analysis"
   ]
  },
  {
   "cell_type": "code",
   "execution_count": null,
   "metadata": {},
   "outputs": [],
   "source": [
    "# TODO"
   ]
  },
  {
   "cell_type": "code",
   "execution_count": 5,
   "metadata": {},
   "outputs": [],
   "source": [
    "import telegram\n",
    "def send_to_telegram(msg):\n",
    "\n",
    "    \"\"\"Send appropriate links to telegram channel\"\"\"\n",
    "\n",
    "    bot = telegram.Bot(token='523412387:AAHhEckKtZiCoSG6Pd3ZGtp4-JbL06I8H2E')\n",
    "    chat_id = -1001371737931\n",
    "    bot.send_message(chat_id=chat_id, text=msg)\n",
    "    print(msg)"
   ]
  },
  {
   "cell_type": "code",
   "execution_count": null,
   "metadata": {},
   "outputs": [],
   "source": [
    "send_to_telegram('Эй слыш ну чо')"
   ]
  },
  {
   "cell_type": "code",
   "execution_count": null,
   "metadata": {},
   "outputs": [],
   "source": [
    "1"
   ]
  },
  {
   "cell_type": "code",
   "execution_count": null,
   "metadata": {},
   "outputs": [],
   "source": []
  },
  {
   "cell_type": "code",
   "execution_count": null,
   "metadata": {},
   "outputs": [],
   "source": []
  },
  {
   "cell_type": "markdown",
   "metadata": {},
   "source": [
    "## Sample LSTM Training"
   ]
  },
  {
   "cell_type": "code",
   "execution_count": 6,
   "metadata": {
    "scrolled": true
   },
   "outputs": [
    {
     "name": "stderr",
     "output_type": "stream",
     "text": [
      "Using TensorFlow backend.\n",
      "/usr/lib/python3.6/importlib/_bootstrap.py:219: RuntimeWarning: compiletime version 3.5 of module 'tensorflow.python.framework.fast_tensor_util' does not match runtime version 3.6\n",
      "  return f(*args, **kwds)\n"
     ]
    }
   ],
   "source": [
    "from keras.preprocessing.text import Tokenizer\n",
    "from keras.preprocessing.sequence import pad_sequences\n",
    "from keras.layers import Dense, Input, LSTM, Embedding, Dropout, Activation\n",
    "from keras.layers import Bidirectional, GlobalMaxPool1D\n",
    "from keras.models import Model\n",
    "from keras import initializers, regularizers, constraints, optimizers, layers, callbacks"
   ]
  },
  {
   "cell_type": "code",
   "execution_count": 15,
   "metadata": {},
   "outputs": [],
   "source": [
    "from keras.callbacks import Callback"
   ]
  },
  {
   "cell_type": "code",
   "execution_count": 112,
   "metadata": {},
   "outputs": [],
   "source": [
    "path = '../data/'\n",
    "EMBEDDING_FILE=f'{path}glove.840B.300d.txt'\n",
    "TRAIN_DATA_FILE=f'{path}train.csv'\n",
    "TEST_DATA_FILE=f'{path}test.csv'"
   ]
  },
  {
   "cell_type": "code",
   "execution_count": 113,
   "metadata": {},
   "outputs": [],
   "source": [
    "embed_size = 300 # how big is each word vector\n",
    "max_features = 15000 # how many unique words to use (i.e num rows in embedding vector)\n",
    "maxlen = 150 # max number of words in a comment to use"
   ]
  },
  {
   "cell_type": "code",
   "execution_count": 114,
   "metadata": {},
   "outputs": [],
   "source": [
    "train = pd.read_csv(TRAIN_DATA_FILE)\n",
    "test = pd.read_csv(TEST_DATA_FILE)\n",
    "\n",
    "list_sentences_train = train[\"comment_text\"].fillna(\"_na_\").values\n",
    "list_classes = [\"toxic\", \"severe_toxic\", \"obscene\", \"threat\", \"insult\", \"identity_hate\"]\n",
    "y = train[list_classes].values\n",
    "list_sentences_test = test[\"comment_text\"].fillna(\"_na_\").values"
   ]
  },
  {
   "cell_type": "code",
   "execution_count": 115,
   "metadata": {},
   "outputs": [],
   "source": [
    "tokenizer = Tokenizer(num_words=max_features)\n",
    "tokenizer.fit_on_texts(list(list_sentences_train))\n",
    "list_tokenized_train = tokenizer.texts_to_sequences(list_sentences_train)\n",
    "list_tokenized_test = tokenizer.texts_to_sequences(list_sentences_test)\n",
    "X_t = pad_sequences(list_tokenized_train, maxlen=maxlen)\n",
    "X_te = pad_sequences(list_tokenized_test, maxlen=maxlen)"
   ]
  },
  {
   "cell_type": "code",
   "execution_count": 120,
   "metadata": {},
   "outputs": [
    {
     "ename": "TypeError",
     "evalue": "cannot convert dictionary update sequence element #52343 to a sequence",
     "output_type": "error",
     "traceback": [
      "\u001b[0;31m---------------------------------------------------------------------------\u001b[0m",
      "\u001b[0;31mTypeError\u001b[0m                                 Traceback (most recent call last)",
      "\u001b[0;32m<ipython-input-120-523234781777>\u001b[0m in \u001b[0;36m<module>\u001b[0;34m()\u001b[0m\n\u001b[1;32m      6\u001b[0m     \u001b[0;32mexcept\u001b[0m \u001b[0mValueError\u001b[0m\u001b[0;34m:\u001b[0m\u001b[0;34m\u001b[0m\u001b[0m\n\u001b[1;32m      7\u001b[0m         \u001b[0;32mreturn\u001b[0m\u001b[0;34m\u001b[0m\u001b[0m\n\u001b[0;32m----> 8\u001b[0;31m \u001b[0membeddings_index\u001b[0m \u001b[0;34m=\u001b[0m \u001b[0mdict\u001b[0m\u001b[0;34m(\u001b[0m\u001b[0mget_coefs\u001b[0m\u001b[0;34m(\u001b[0m\u001b[0;34m*\u001b[0m\u001b[0mo\u001b[0m\u001b[0;34m.\u001b[0m\u001b[0mstrip\u001b[0m\u001b[0;34m(\u001b[0m\u001b[0;34m)\u001b[0m\u001b[0;34m.\u001b[0m\u001b[0msplit\u001b[0m\u001b[0;34m(\u001b[0m\u001b[0;34m)\u001b[0m\u001b[0;34m)\u001b[0m \u001b[0;32mfor\u001b[0m \u001b[0mo\u001b[0m \u001b[0;32min\u001b[0m \u001b[0mopen\u001b[0m\u001b[0;34m(\u001b[0m\u001b[0mEMBEDDING_FILE\u001b[0m\u001b[0;34m,\u001b[0m \u001b[0mencoding\u001b[0m\u001b[0;34m=\u001b[0m\u001b[0;34m'utf-8'\u001b[0m\u001b[0;34m)\u001b[0m\u001b[0;34m)\u001b[0m\u001b[0;34m\u001b[0m\u001b[0m\n\u001b[0m",
      "\u001b[0;31mTypeError\u001b[0m: cannot convert dictionary update sequence element #52343 to a sequence"
     ]
    }
   ],
   "source": [
    "def get_coefs(word, *arr):\n",
    "    try:\n",
    "        return word, np.asarray(arr, dtype='float32')\n",
    "    except:\n",
    "        return\n",
    "    \n",
    "embeddings_index = dict(get_coefs(*o.strip().split()) for o in open(EMBEDDING_FILE, encoding='utf-8')) if "
   ]
  },
  {
   "cell_type": "code",
   "execution_count": null,
   "metadata": {},
   "outputs": [],
   "source": [
    "from itertools import chain\n"
   ]
  },
  {
   "cell_type": "code",
   "execution_count": 13,
   "metadata": {},
   "outputs": [
    {
     "name": "stdout",
     "output_type": "stream",
     "text": [
      "Embeddings mean: 0.00906506460160017, embeddings std: 0.44281086325645447\n"
     ]
    }
   ],
   "source": [
    "send_to_telegram('Embeddings calc started.')\n",
    "all_embs = np.stack(chain.from_iterable(embeddings_index.values()))\n",
    "# all_embs = np.stack(embeddings_index.values())\n",
    "emb_mean,emb_std = all_embs.mean(), all_embs.std()\n",
    "print(f'Embeddings mean: {emb_mean}, embeddings std: {emb_std}')\n",
    "send_to_telegram('Embeddings calc started.')"
   ]
  },
  {
   "cell_type": "code",
   "execution_count": 14,
   "metadata": {},
   "outputs": [],
   "source": [
    "word_index = tokenizer.word_index\n",
    "nb_words = min(max_features, len(word_index))\n",
    "embedding_matrix = np.random.normal(emb_mean, emb_std, (nb_words, embed_size))\n",
    "for word, i in word_index.items():\n",
    "    if i >= max_features: continue\n",
    "    embedding_vector = embeddings_index.get(word)\n",
    "    if embedding_vector is not None: embedding_matrix[i] = embedding_vector"
   ]
  },
  {
   "cell_type": "code",
   "execution_count": 106,
   "metadata": {},
   "outputs": [],
   "source": [
    "class TelegramLogger(Callback):\n",
    "    def __init__(self, msg):\n",
    "        self.msg = msg\n",
    "        super()\n",
    "        \n",
    "    def on_train_begin(self, logs={}):\n",
    "        send_to_telegram(self.msg)\n",
    "        \n",
    "    def on_epoch_begin(self, epoch, logs={}):\n",
    "        super()\n",
    "        \n",
    "    def on_train_end(self, logs={}):\n",
    "        send_to_telegram('Completed.')\n",
    "    \n",
    "    def on_epoch_end(self, epoch, logs={}):\n",
    "        send_to_telegram('Epoch #{}, train_acc: {:.5f}'.format(epoch + 1, logs.get('acc')))\n",
    " \n",
    "    def on_batch_begin(self, batch, logs={}):\n",
    "        super()\n",
    " \n",
    "    def on_batch_end(self, batch, logs={}):\n",
    "        if logs.get('batch') and logs['batch'] % 500 == 0:\n",
    "            send_to_telegram('Batch #{}, train_acc: {:.5f}'.format(logs.get('batch'), logs.get('acc')))"
   ]
  },
  {
   "cell_type": "code",
   "execution_count": null,
   "metadata": {},
   "outputs": [],
   "source": []
  },
  {
   "cell_type": "code",
   "execution_count": 108,
   "metadata": {},
   "outputs": [],
   "source": [
    "inp = Input(shape=(maxlen,))\n",
    "x = Embedding(max_features, embed_size, weights=[embedding_matrix])(inp)\n",
    "x = Bidirectional(LSTM(50, return_sequences=True, dropout=0.1, recurrent_dropout=0.1))(x)\n",
    "x = GlobalMaxPool1D()(x)\n",
    "x = Dense(50, activation=\"relu\")(x)\n",
    "x = Dropout(0.1)(x)\n",
    "x = Dense(6, activation=\"sigmoid\")(x)\n",
    "model = Model(inputs=inp, outputs=x)\n",
    "model.compile(loss='binary_crossentropy', optimizer='adam', metrics=['accuracy'])"
   ]
  },
  {
   "cell_type": "code",
   "execution_count": 109,
   "metadata": {},
   "outputs": [
    {
     "name": "stdout",
     "output_type": "stream",
     "text": [
      "CURRENTLY TRAINING:\n",
      "Layer (type)                                 Output Shape        \n",
      "=================================================================\n",
      "input_14 (InputLayer)                        (None, 120)         \n",
      "embedding_14 (Embedding)                     (None, 120, 200)    \n",
      "bidirectional_14 (Bidirectional)             (None, 120, 100)    \n",
      "global_max_pooling1d_14 (GlobalMaxPooling1D) (None, 100)         \n",
      "dense_27 (Dense)                             (None, 50)          \n",
      "dropout_14 (Dropout)                         (None, 50)          \n",
      "dense_28 (Dense)                             (None, 6)           \n",
      "=================================================================\n",
      "BATCH SIZE 32, EPOCHS 2\n",
      "Epoch 1/2\n",
      " 16000/159571 [==>...........................] - ETA: 30:31 - loss: 0.1027 - acc: 0.9676Batch #500, train_acc: 0.98958\n",
      " 32000/159571 [=====>........................] - ETA: 26:47 - loss: 0.0782 - acc: 0.9746Batch #1000, train_acc: 0.97917\n",
      " 64000/159571 [===========>..................] - ETA: 20:03 - loss: 0.0656 - acc: 0.9779Batch #2000, train_acc: 0.98958\n",
      " 80000/159571 [==============>...............] - ETA: 16:39 - loss: 0.0626 - acc: 0.9787Batch #2500, train_acc: 0.98958\n",
      " 96000/159571 [=================>............] - ETA: 13:17 - loss: 0.0600 - acc: 0.9793Batch #3000, train_acc: 0.99479\n",
      "112000/159571 [====================>.........] - ETA: 9:56 - loss: 0.0581 - acc: 0.9798Batch #3500, train_acc: 0.97917\n",
      "128000/159571 [=======================>......] - ETA: 6:35 - loss: 0.0568 - acc: 0.9801Batch #4000, train_acc: 1.00000\n",
      "144000/159571 [==========================>...] - ETA: 3:15 - loss: 0.0556 - acc: 0.9805Batch #4500, train_acc: 0.97917\n",
      "144992/159571 [==========================>...] - ETA: 3:02 - loss: 0.0555 - acc: 0.9805"
     ]
    },
    {
     "name": "stderr",
     "output_type": "stream",
     "text": [
      "IOPub message rate exceeded.\n",
      "The notebook server will temporarily stop sending output\n",
      "to the client in order to avoid crashing it.\n",
      "To change this limit, set the config variable\n",
      "`--NotebookApp.iopub_msg_rate_limit`.\n",
      "\n",
      "Current values:\n",
      "NotebookApp.iopub_msg_rate_limit=1000.0 (msgs/sec)\n",
      "NotebookApp.rate_limit_window=3.0 (secs)\n",
      "\n"
     ]
    },
    {
     "name": "stdout",
     "output_type": "stream",
     "text": [
      "112000/159571 [====================>.........] - ETA: 9:52 - loss: 0.0426 - acc: 0.9837Batch #3500, train_acc: 0.97396\n",
      "128000/159571 [=======================>......] - ETA: 6:33 - loss: 0.0422 - acc: 0.9838Batch #4000, train_acc: 0.98958\n",
      "144000/159571 [==========================>...] - ETA: 3:13 - loss: 0.0422 - acc: 0.9838Batch #4500, train_acc: 0.97917\n",
      "159552/159571 [============================>.] - ETA: 0s - loss: 0.0423 - acc: 0.9839Epoch #2, train_acc: 0.98387\n",
      "159571/159571 [==============================] - 1987s 12ms/step - loss: 0.0423 - acc: 0.9839\n",
      "Completed.\n"
     ]
    }
   ],
   "source": [
    "s = []\n",
    "def print_summary(line):\n",
    "    global s\n",
    "    s.append(line[:65])\n",
    "\n",
    "model.summary(line_length=100, print_fn=print_summary)\n",
    "\n",
    "def cleanup_summary(summary):\n",
    "    s = [\"CURRENTLY TRAINING:\"]\n",
    "    for line in summary[1:-4]:\n",
    "        if line.startswith('___'): continue\n",
    "        else:\n",
    "            s.append(line)\n",
    "            \n",
    "    s.append('BATCH SIZE 32, EPOCHS 2')\n",
    "    return s\n",
    "\n",
    "intro_msg = '\\n'.join(cleanup_summary(s))\n",
    "\n",
    "tlg = TelegramLogger(intro_msg)\n",
    "model.fit(X_t, y, batch_size=32, epochs=2, callbacks=[tlg]);"
   ]
  },
  {
   "cell_type": "code",
   "execution_count": 110,
   "metadata": {},
   "outputs": [
    {
     "name": "stdout",
     "output_type": "stream",
     "text": [
      "153164/153164 [==============================] - 18s 115us/step\n"
     ]
    }
   ],
   "source": [
    "y_test = model.predict([X_te], batch_size=1024, verbose=1)\n",
    "sample_submission = pd.read_csv(f'{path}sample_submission.csv')\n",
    "sample_submission[list_classes] = y_test\n",
    "sample_submission.to_csv('submission_3_11feb.csv', index=False)"
   ]
  },
  {
   "cell_type": "code",
   "execution_count": null,
   "metadata": {},
   "outputs": [],
   "source": [
    "!ls"
   ]
  },
  {
   "cell_type": "code",
   "execution_count": null,
   "metadata": {},
   "outputs": [],
   "source": []
  }
 ],
 "metadata": {
  "kernelspec": {
   "display_name": "Python 3",
   "language": "python",
   "name": "python3"
  },
  "language_info": {
   "codemirror_mode": {
    "name": "ipython",
    "version": 3
   },
   "file_extension": ".py",
   "mimetype": "text/x-python",
   "name": "python",
   "nbconvert_exporter": "python",
   "pygments_lexer": "ipython3",
   "version": "3.6.3"
  }
 },
 "nbformat": 4,
 "nbformat_minor": 2
}
